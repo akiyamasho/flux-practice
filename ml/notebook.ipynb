{
 "cells": [
  {
   "cell_type": "code",
   "execution_count": 44,
   "metadata": {},
   "outputs": [],
   "source": [
    "import numpy as np\n",
    "import pandas as pd\n",
    "import tensorflow as tf\n",
    "\n",
    "train_data = pd.read_csv(\"titanic_train.csv\")\n",
    "\n",
    "UNUSED = [\"Name\", \"Ticket\", \"Age\", \"Cabin\", \"Embarked\", \"Fare\"]\n",
    "train_data = train_data.drop(UNUSED, axis=1)"
   ]
  },
  {
   "cell_type": "code",
   "execution_count": 45,
   "metadata": {},
   "outputs": [
    {
     "name": "stdout",
     "output_type": "stream",
     "text": [
      "INFO:tensorflow:Using default config.\n",
      "WARNING:tensorflow:Using temporary folder as model directory: /var/folders/cp/pyymf_y13yq14gxtlh7_ngvc0000gn/T/tmpz7nx66u1\n",
      "INFO:tensorflow:Using config: {'_model_dir': '/var/folders/cp/pyymf_y13yq14gxtlh7_ngvc0000gn/T/tmpz7nx66u1', '_tf_random_seed': None, '_save_summary_steps': 100, '_save_checkpoints_steps': None, '_save_checkpoints_secs': 600, '_session_config': allow_soft_placement: true\n",
      "graph_options {\n",
      "  rewrite_options {\n",
      "    meta_optimizer_iterations: ONE\n",
      "  }\n",
      "}\n",
      ", '_keep_checkpoint_max': 5, '_keep_checkpoint_every_n_hours': 10000, '_log_step_count_steps': 100, '_train_distribute': None, '_device_fn': None, '_protocol': None, '_eval_distribute': None, '_experimental_distribute': None, '_experimental_max_worker_delay_secs': None, '_session_creation_timeout_secs': 7200, '_service': None, '_cluster_spec': ClusterSpec({}), '_task_type': 'worker', '_task_id': 0, '_global_id_in_cluster': 0, '_master': '', '_evaluation_master': '', '_is_chief': True, '_num_ps_replicas': 0, '_num_worker_replicas': 1}\n",
      "INFO:tensorflow:Calling model_fn.\n",
      "INFO:tensorflow:Done calling model_fn.\n",
      "INFO:tensorflow:Create CheckpointSaverHook.\n",
      "INFO:tensorflow:Graph was finalized.\n",
      "INFO:tensorflow:Running local_init_op.\n",
      "INFO:tensorflow:Done running local_init_op.\n",
      "INFO:tensorflow:Calling checkpoint listeners before saving checkpoint 0...\n",
      "INFO:tensorflow:Saving checkpoints for 0 into /var/folders/cp/pyymf_y13yq14gxtlh7_ngvc0000gn/T/tmpz7nx66u1/model.ckpt.\n",
      "INFO:tensorflow:Calling checkpoint listeners after saving checkpoint 0...\n",
      "INFO:tensorflow:loss = 0.6931472, step = 1\n",
      "INFO:tensorflow:Calling checkpoint listeners before saving checkpoint 10...\n",
      "INFO:tensorflow:Saving checkpoints for 10 into /var/folders/cp/pyymf_y13yq14gxtlh7_ngvc0000gn/T/tmpz7nx66u1/model.ckpt.\n",
      "INFO:tensorflow:Calling checkpoint listeners after saving checkpoint 10...\n",
      "INFO:tensorflow:Loss for final step: 0.5584327.\n",
      "INFO:tensorflow:Calling model_fn.\n",
      "INFO:tensorflow:Done calling model_fn.\n",
      "INFO:tensorflow:Starting evaluation at 2020-08-21T19:07:13Z\n",
      "INFO:tensorflow:Graph was finalized.\n",
      "INFO:tensorflow:Restoring parameters from /var/folders/cp/pyymf_y13yq14gxtlh7_ngvc0000gn/T/tmpz7nx66u1/model.ckpt-10\n",
      "INFO:tensorflow:Running local_init_op.\n",
      "INFO:tensorflow:Done running local_init_op.\n",
      "INFO:tensorflow:Inference Time : 0.32825s\n",
      "INFO:tensorflow:Finished evaluation at 2020-08-21-19:07:13\n",
      "INFO:tensorflow:Saving dict for global step 10: accuracy = 0.8089887640449438, accuracy_baseline = 0.6348314606741573, auc = 0.7874744724302247, auc_precision_recall = 0.677708427990881, average_loss = 0.5526808982484797, global_step = 10, label/mean = 0.3651685393258427, loss = 0.55616236, precision = 0.7540983606557377, prediction/mean = 0.39752561640873385, recall = 0.7076923076923077\n",
      "INFO:tensorflow:Saving 'checkpoint_path' summary for global step 10: /var/folders/cp/pyymf_y13yq14gxtlh7_ngvc0000gn/T/tmpz7nx66u1/model.ckpt-10\n",
      "Test Acc: 0.8089887640449438\n"
     ]
    }
   ],
   "source": [
    "train_set = train_data.sample(frac=0.8, replace=False, random_state=42)\n",
    "cv_set = train_data.loc[ set(train_data.index) - set(train_set.index)]\n",
    "\n",
    "sex_feature = tf.feature_column.categorical_column_with_vocabulary_list(\n",
    "    'Sex', ['female','male']\n",
    ")\n",
    "\n",
    "feature_columns = [ sex_feature ]\n",
    "\n",
    "estimator = tf.estimator.LinearClassifier(\n",
    "    feature_columns=feature_columns)\n",
    "\n",
    "train_input_fn = tf.compat.v1.estimator.inputs.pandas_input_fn(\n",
    "      x=train_set.drop('Survived', axis=1),\n",
    "      y=train_set.Survived,\n",
    "      num_epochs=None,\n",
    "      shuffle=True,\n",
    "      target_column='target',\n",
    ")\n",
    "\n",
    "cv_input_fn = tf.compat.v1.estimator.inputs.pandas_input_fn(\n",
    "      x=cv_set.drop('Survived', axis=1),\n",
    "      y=cv_set.Survived,\n",
    "      num_epochs=1,\n",
    "      shuffle=False\n",
    ")\n",
    "\n",
    "estimator.train(input_fn=train_input_fn, steps=10)\n",
    "\n",
    "scores = estimator.evaluate(input_fn=cv_input_fn)\n",
    "print(f\"Test Acc: {scores['accuracy']}\")"
   ]
  },
  {
   "cell_type": "code",
   "execution_count": 51,
   "metadata": {},
   "outputs": [
    {
     "name": "stdout",
     "output_type": "stream",
     "text": [
      "INFO:tensorflow:Calling model_fn.\n",
      "INFO:tensorflow:Done calling model_fn.\n",
      "INFO:tensorflow:Graph was finalized.\n",
      "INFO:tensorflow:Restoring parameters from /var/folders/cp/pyymf_y13yq14gxtlh7_ngvc0000gn/T/tmpz7nx66u1/model.ckpt-10\n",
      "INFO:tensorflow:Running local_init_op.\n",
      "INFO:tensorflow:Done running local_init_op.\n",
      "INFO:tensorflow:No assets to save.\n",
      "INFO:tensorflow:No assets to write.\n",
      "INFO:tensorflow:SavedModel written to: titanic/saved_model.pb\n"
     ]
    }
   ],
   "source": [
    "# Save model\n",
    "\n",
    "sess = tf.compat.v1.Session()\n",
    "\n",
    "builder = tf.compat.v1.saved_model.Builder(\"titanic\")\n",
    "\n",
    "test_data = pd.read_csv(\"titanic_test.csv\")\n",
    "test_data = test_data.drop(UNUSED, axis=1)\n",
    "test_input_fn = tf.compat.v1.estimator.inputs.pandas_input_fn(\n",
    "      x=test_data,\n",
    "      num_epochs=1, # only to predict\n",
    "      shuffle=False \n",
    ")\n",
    "\n",
    "predictions = list(estimator.predict(input_fn=test_input_fn))\n",
    "predicted_classes = [prediction['class_ids'][0] for prediction in predictions]\n",
    "evaluation = test_data['PassengerId'].copy().to_frame()\n",
    "evaluation[\"Survived\"] = predicted_classes\n",
    "evaluation.to_csv(\"evaluation_submission.csv\", index=False)\n",
    "\n",
    "#Tag the model, required for Go\n",
    "builder.add_meta_graph_and_variables(sess, [\"atag\"])\n",
    "builder.save()\n",
    "sess.close()\n"
   ]
  },
  {
   "cell_type": "code",
   "execution_count": null,
   "metadata": {},
   "outputs": [],
   "source": []
  }
 ],
 "metadata": {
  "kernelspec": {
   "display_name": "Python 3",
   "language": "python",
   "name": "python3"
  },
  "language_info": {
   "codemirror_mode": {
    "name": "ipython",
    "version": 3
   },
   "file_extension": ".py",
   "mimetype": "text/x-python",
   "name": "python",
   "nbconvert_exporter": "python",
   "pygments_lexer": "ipython3",
   "version": "3.8.2"
  }
 },
 "nbformat": 4,
 "nbformat_minor": 4
}
